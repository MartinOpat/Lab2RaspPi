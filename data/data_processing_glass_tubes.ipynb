{
 "cells": [
  {
   "cell_type": "code",
   "execution_count": 389,
   "metadata": {
    "collapsed": true,
    "ExecuteTime": {
     "end_time": "2023-06-02T13:55:41.301841153Z",
     "start_time": "2023-06-02T13:55:41.291928597Z"
    }
   },
   "outputs": [],
   "source": [
    "import matplotlib.pyplot as plt\n",
    "import numpy as np\n",
    "import pandas as pd\n",
    "import os\n",
    "import scipy.optimize as opt\n",
    "\n",
    "from datetime import datetime"
   ]
  },
  {
   "cell_type": "code",
   "execution_count": null,
   "outputs": [],
   "source": [
    "import matplotlib\n",
    "matplotlib.rcParams.update({'font.size': 18})"
   ],
   "metadata": {
    "collapsed": false,
    "is_executing": true
   }
  },
  {
   "cell_type": "code",
   "execution_count": null,
   "outputs": [],
   "source": [
    "data_one_side = []\n",
    "data_stat = []\n",
    "data_rot = []"
   ],
   "metadata": {
    "collapsed": false,
    "is_executing": true
   }
  },
  {
   "cell_type": "code",
   "execution_count": null,
   "outputs": [],
   "source": [
    "header = \"now,intensity,humidity,temperature,temperature_from_humidity,temperature_from_pressure,pressure,orientation_roll,orientation_pitch,orientation_yaw,compass,compass_raw_x,compass_raw_y,compass_raw_z,gyro_roll,gyro_pitch,gyro_yaw,gyro_raw_x,gyro_raw_y,gyro_raw_z,accelerometer_raw_x,accelerometer_raw_y,accelerometer_raw_z,accelerometer_roll,accelerometer_pitch,accelerometer_yaw\\n\"\n",
    "\n",
    "def append_headers(i_start, i_end):\n",
    "    for i in range(i_start, i_end):\n",
    "        if i < 10:\n",
    "            f = open(f\"data0{i}.csv\", \"r+\")\n",
    "        else:\n",
    "            f = open(f\"data{i}.csv\", \"r+\")\n",
    "        content = f.read()\n",
    "        f.seek(0, 0)\n",
    "        f.write(header + content)\n",
    "        f.close()\n"
   ],
   "metadata": {
    "collapsed": false,
    "is_executing": true
   }
  },
  {
   "cell_type": "code",
   "execution_count": null,
   "outputs": [],
   "source": [
    "def load_data(path):\n",
    "    for i in range(1, num_runs+1):\n",
    "        if i < 10:\n",
    "            filename = f\"data0{i}.csv\"\n",
    "        else:\n",
    "            filename = f\"data{i}.csv\"\n",
    "\n",
    "        # if i % 2 == 1:\n",
    "        #     data_stat.append(pd.read_csv(path + filename).dropna())\n",
    "        # else:\n",
    "        #     data_rot.append(pd.read_csv(path+filename).dropna())\n",
    "        data_rot.append(pd.read_csv(path+filename).dropna())\n"
   ],
   "metadata": {
    "collapsed": false,
    "is_executing": true
   }
  },
  {
   "cell_type": "code",
   "execution_count": null,
   "outputs": [],
   "source": [
    "def calculate_time(data, i):\n",
    "    data[i][\"now\"] = pd.to_datetime(data[i][\"now\"])\n",
    "    data[i][\"time\"] = (data[i]['now'] - data[i]['now'][0]).dt.total_seconds()"
   ],
   "metadata": {
    "collapsed": false,
    "is_executing": true
   }
  },
  {
   "cell_type": "code",
   "execution_count": null,
   "outputs": [],
   "source": [
    "def calculate_omega(data, i):\n",
    "    calculate_time(data, i)\n",
    "    data[i]['accelerometer_yaw'] = data[i]['accelerometer_yaw'].apply(np.deg2rad)\n",
    "    data[i][\"accelerometer_yaw\"] = np.unwrap(data[i][\"accelerometer_yaw\"])\n",
    "    data[i][\"omega\"] = data[i][\"accelerometer_yaw\"].diff() / data[i][\"time\"].diff()"
   ],
   "metadata": {
    "collapsed": false,
    "is_executing": true
   }
  },
  {
   "cell_type": "code",
   "execution_count": null,
   "outputs": [],
   "source": [
    "def calculate_omega2(data, i):\n",
    "    calculate_time(data, i)\n",
    "    data[i][\"yaw_rad\"] = data[i][\"gyro_yaw\"].apply(np.deg2rad)\n",
    "    data[i][\"yaw_rad\"] = np.unwrap(data[i][\"yaw_rad\"])\n",
    "    data[i][\"omega\"] = data[i][\"yaw_rad\"].diff() / data[i][\"time\"].diff()"
   ],
   "metadata": {
    "collapsed": false,
    "is_executing": true
   }
  },
  {
   "cell_type": "code",
   "execution_count": null,
   "outputs": [],
   "source": [
    "def plot_omega(data, i):\n",
    "    fig, ax = plt.subplots(1, 1, figsize=(8, 8))\n",
    "    fig.suptitle(\"Graphs of rotational speed as a function of time\", fontsize=24)\n",
    "\n",
    "    # ax.set_ylim([-8, 8])\n",
    "    ax.scatter(data[i][\"time\"], data[i][\"gyro_raw_z\"])\n",
    "    ax.title.set_text(\"\")\n",
    "    ax.set_xlabel(\"time [s]\")\n",
    "    ax.set_ylabel(\"Rotational speed [rad / s]\")\n",
    "    plt.show()"
   ],
   "metadata": {
    "collapsed": false,
    "is_executing": true
   }
  },
  {
   "cell_type": "code",
   "execution_count": null,
   "outputs": [],
   "source": [
    "def calculate_omegas(data):\n",
    "    for i in range(len(data)):\n",
    "        calculate_omega(data, i)"
   ],
   "metadata": {
    "collapsed": false,
    "is_executing": true
   }
  },
  {
   "cell_type": "code",
   "execution_count": null,
   "outputs": [],
   "source": [
    "def plot_intensity(data, i):\n",
    "    fig, ax = plt.subplots(1, 1, figsize=(8, 8))\n",
    "    fig.suptitle(\"Graphs of intensity as a function of time\", fontsize=24)\n",
    "\n",
    "    # ax.set_ylim([0.8, 0.92])\n",
    "    ax.scatter(data[i][\"time\"], data[i][\"intensity\"])\n",
    "    ax.title.set_text(\"\")\n",
    "    ax.set_xlabel(\"time [s]\")\n",
    "    ax.set_ylabel(\"Intensity [%]\")\n",
    "    plt.show()"
   ],
   "metadata": {
    "collapsed": false,
    "is_executing": true
   }
  },
  {
   "cell_type": "code",
   "execution_count": null,
   "outputs": [],
   "source": [
    "def plot_intensity_vs_omega(data, i):\n",
    "    fig, ax = plt.subplots(1, 1, figsize=(8, 8))\n",
    "    fig.suptitle(\"Graphs of intensity as a function of omega\", fontsize=24)\n",
    "\n",
    "    # ax.set_ylim([0.8, 0.92])\n",
    "    ax.scatter(abs(data[i][\"gyro_raw_z\"]), data[i][\"intensity\"])\n",
    "    ax.title.set_text(\"\")\n",
    "    ax.set_xlabel(\"omega [rad / s]\")\n",
    "    ax.set_ylabel(\"Intensity [%]\")\n",
    "    plt.show()"
   ],
   "metadata": {
    "collapsed": false,
    "is_executing": true
   }
  },
  {
   "cell_type": "code",
   "execution_count": null,
   "outputs": [],
   "source": [
    "num_runs = 23\n",
    "load_data(\"\")\n"
   ],
   "metadata": {
    "collapsed": false,
    "is_executing": true
   }
  },
  {
   "cell_type": "code",
   "execution_count": null,
   "outputs": [],
   "source": [
    "i = num_runs-1"
   ],
   "metadata": {
    "collapsed": false,
    "is_executing": true
   }
  },
  {
   "cell_type": "code",
   "execution_count": null,
   "outputs": [],
   "source": [
    "# for i in range(num_runs-1, num_runs):\n",
    "calculate_time(data_rot, i)\n",
    "plot_omega(data_rot, i)\n",
    "plot_intensity(data_rot, i)\n",
    "plot_intensity_vs_omega(data_rot, i)"
   ],
   "metadata": {
    "collapsed": false,
    "is_executing": true
   }
  },
  {
   "cell_type": "code",
   "execution_count": null,
   "outputs": [],
   "source": [],
   "metadata": {
    "collapsed": false,
    "is_executing": true
   }
  },
  {
   "cell_type": "code",
   "execution_count": null,
   "outputs": [],
   "source": [],
   "metadata": {
    "collapsed": false,
    "is_executing": true
   }
  }
 ],
 "metadata": {
  "kernelspec": {
   "display_name": "Python 3",
   "language": "python",
   "name": "python3"
  },
  "language_info": {
   "codemirror_mode": {
    "name": "ipython",
    "version": 2
   },
   "file_extension": ".py",
   "mimetype": "text/x-python",
   "name": "python",
   "nbconvert_exporter": "python",
   "pygments_lexer": "ipython2",
   "version": "2.7.6"
  }
 },
 "nbformat": 4,
 "nbformat_minor": 0
}
